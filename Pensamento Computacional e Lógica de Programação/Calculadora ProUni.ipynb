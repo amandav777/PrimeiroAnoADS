{
 "cells": [
  {
   "cell_type": "code",
   "execution_count": null,
   "metadata": {},
   "outputs": [],
   "source": [
    "salariomin = float(input(\"Insira o valor atual do salário mínimo no Brasil: \"))\n",
    "pessoas = float(input(\"Quantas pessoas moram na sua casa? \"))\n",
    "renda = float(input(\"Qual a renda total do núcleo familiar? \"))\n",
    "\n",
    "percapita = renda / pessoas\n",
    "percapita50 = salariomin * 1.50\n",
    "\n",
    "if percapita <= salariomin:\n",
    "  print(\"Você se qualifica para os requisitos do ProUni 100%.\")\n",
    "\n",
    "elif percapita <= percapita50:\n",
    "  print(\"Você se qualifica para os requisitos do ProUni 50%.\")\n",
    "\n",
    "elif percapita > percapita50:\n",
    " print(\"Você não se qualifica em nenhum critério do ProUni.\")"
   ]
  }
 ],
 "metadata": {
  "language_info": {
   "name": "python"
  }
 },
 "nbformat": 4,
 "nbformat_minor": 2
}
