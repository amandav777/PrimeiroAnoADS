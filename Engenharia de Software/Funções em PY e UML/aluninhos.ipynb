{
  "nbformat": 4,
  "nbformat_minor": 0,
  "metadata": {
    "colab": {
      "provenance": [],
      "authorship_tag": "ABX9TyMO1eP9sQxKR57c0Eq0Jk5x",
      "include_colab_link": true
    },
    "kernelspec": {
      "name": "python3",
      "display_name": "Python 3"
    },
    "language_info": {
      "name": "python"
    }
  },
  "cells": [
    {
      "cell_type": "markdown",
      "metadata": {
        "id": "view-in-github",
        "colab_type": "text"
      },
      "source": [
        "<a href=\"https://colab.research.google.com/github/amandav777/Fun-es-e-UML---Eng.-de-Software/blob/main/aluninhos.ipynb\" target=\"_parent\"><img src=\"https://colab.research.google.com/assets/colab-badge.svg\" alt=\"Open In Colab\"/></a>"
      ]
    },
    {
      "cell_type": "markdown",
      "source": [
        "Escreva \"hello, world\" para quebrar a maldição!"
      ],
      "metadata": {
        "id": "SNM_mFDqvI8k"
      }
    },
    {
      "cell_type": "code",
      "source": [
        "print(\"hello, world!\")"
      ],
      "metadata": {
        "colab": {
          "base_uri": "https://localhost:8080/"
        },
        "id": "pE81dtZCcRup",
        "outputId": "7702b3fd-4bd1-4091-bcc3-aa9c799c4737"
      },
      "execution_count": null,
      "outputs": [
        {
          "output_type": "stream",
          "name": "stdout",
          "text": [
            "hello, world!\n"
          ]
        }
      ]
    },
    {
      "cell_type": "markdown",
      "source": [
        "Escreva seu nome "
      ],
      "metadata": {
        "id": "P9v5PnOFcSEx"
      }
    },
    {
      "cell_type": "code",
      "source": [
        "print(\"amanda vieira sanches\")"
      ],
      "metadata": {
        "colab": {
          "base_uri": "https://localhost:8080/"
        },
        "id": "827VSu0acZlY",
        "outputId": "a93189b8-2964-4b5d-cef5-ac8610a3605a"
      },
      "execution_count": null,
      "outputs": [
        {
          "output_type": "stream",
          "name": "stdout",
          "text": [
            "amanda vieira sanches\n"
          ]
        }
      ]
    },
    {
      "cell_type": "markdown",
      "source": [
        "Escreva sua idade em anos"
      ],
      "metadata": {
        "id": "BChTHxCgcUfY"
      }
    },
    {
      "cell_type": "code",
      "source": [
        "print(\"19 anos e 2 meses e 6 dias\")"
      ],
      "metadata": {
        "colab": {
          "base_uri": "https://localhost:8080/"
        },
        "id": "FdqfSecbcee4",
        "outputId": "2b1a22b4-2081-467f-ebf9-fcd714399fe7"
      },
      "execution_count": null,
      "outputs": [
        {
          "output_type": "stream",
          "name": "stdout",
          "text": [
            "19 anos e 2 meses e 6 dias\n"
          ]
        }
      ]
    },
    {
      "cell_type": "markdown",
      "source": [
        "Escreva sua altura"
      ],
      "metadata": {
        "id": "i2xo581ScW2g"
      }
    },
    {
      "cell_type": "code",
      "source": [
        "print(\"Eu tenho 1.62\")"
      ],
      "metadata": {
        "colab": {
          "base_uri": "https://localhost:8080/"
        },
        "id": "xBsADXrEcaEo",
        "outputId": "354033bb-0761-437b-cea7-46036beb6639"
      },
      "execution_count": null,
      "outputs": [
        {
          "output_type": "stream",
          "name": "stdout",
          "text": [
            "Eu tenho 1.62\n"
          ]
        }
      ]
    },
    {
      "cell_type": "markdown",
      "source": [
        "----------------------------------------------------------------------------------------------------"
      ],
      "metadata": {
        "id": "SEJgaHYD0GoU"
      }
    },
    {
      "cell_type": "markdown",
      "source": [
        "Crie um programa para inserir seu nome no computador"
      ],
      "metadata": {
        "id": "Gtu1NHpl0Mxz"
      }
    },
    {
      "cell_type": "code",
      "source": [
        "nome = str(input(\"Insira seu nome: \"))"
      ],
      "metadata": {
        "id": "bgLWGn6m0Ug9",
        "colab": {
          "base_uri": "https://localhost:8080/"
        },
        "outputId": "f0747b74-b748-4fa9-dcc4-1559b9d7fbc2"
      },
      "execution_count": null,
      "outputs": [
        {
          "name": "stdout",
          "output_type": "stream",
          "text": [
            "Insira seu nome: Amanda\n"
          ]
        }
      ]
    },
    {
      "cell_type": "markdown",
      "source": [
        "Crie um programa que peça sua altura"
      ],
      "metadata": {
        "id": "efhphPnL0VMj"
      }
    },
    {
      "cell_type": "code",
      "source": [
        "altura = float(input(\"Insira sua altura: \"))"
      ],
      "metadata": {
        "id": "TR4f4lbS0baT",
        "colab": {
          "base_uri": "https://localhost:8080/"
        },
        "outputId": "44c6153d-7333-495b-8220-301f41d19899"
      },
      "execution_count": null,
      "outputs": [
        {
          "name": "stdout",
          "output_type": "stream",
          "text": [
            "Insira sua altura: 1.65\n"
          ]
        }
      ]
    },
    {
      "cell_type": "markdown",
      "source": [
        "Crie um programa que peça sua idade"
      ],
      "metadata": {
        "id": "-lc8Wi6V0btj"
      }
    },
    {
      "cell_type": "code",
      "source": [
        "idade = int(input(\"Insira sua idade: ar\"))"
      ],
      "metadata": {
        "id": "PQ_E61cN0p1L",
        "colab": {
          "base_uri": "https://localhost:8080/"
        },
        "outputId": "cc2ea617-8c62-4dc6-e966-e18421873e4d"
      },
      "execution_count": null,
      "outputs": [
        {
          "name": "stdout",
          "output_type": "stream",
          "text": [
            "Insira sua idade: 19\n"
          ]
        }
      ]
    },
    {
      "cell_type": "markdown",
      "source": [
        "Crie um programa que pergunte a temperatura do ar condicionado"
      ],
      "metadata": {
        "id": "erWMUgmR0xPz"
      }
    },
    {
      "cell_type": "code",
      "source": [
        "ar = float(input(\"Insira a temperatura do ar: \"))"
      ],
      "metadata": {
        "id": "bmGW401G4Rir",
        "colab": {
          "base_uri": "https://localhost:8080/"
        },
        "outputId": "dabb81e2-7449-4c34-c9be-ed587f1b639f"
      },
      "execution_count": null,
      "outputs": [
        {
          "name": "stdout",
          "output_type": "stream",
          "text": [
            "Insira a temperatura do ar: 15.13\n"
          ]
        }
      ]
    },
    {
      "cell_type": "markdown",
      "source": [
        "----------------------------------------------------------------------------------------------------"
      ],
      "metadata": {
        "id": "PJ2CoPlG4R0K"
      }
    },
    {
      "cell_type": "markdown",
      "source": [
        "Crie um programa que peça seu nome e imprima uma mensagem de saudação.\n",
        "Exemplo: \n",
        "Qual seu nome?\n",
        "Olá, fulano! Tudo bem?"
      ],
      "metadata": {
        "id": "7_kjO0Hi4VM_"
      }
    },
    {
      "cell_type": "code",
      "source": [
        "nome = str(input(\"Qual seu nome? \"))\n",
        "\n",
        "print(\"Oieeeeeeeeeeeee\", nome, \"Tudo bem???????????\")"
      ],
      "metadata": {
        "id": "NfDmVdmO4zSv",
        "colab": {
          "base_uri": "https://localhost:8080/"
        },
        "outputId": "0aad6f85-6e23-47fc-dddb-4fb2506c1d84"
      },
      "execution_count": null,
      "outputs": [
        {
          "output_type": "stream",
          "name": "stdout",
          "text": [
            "Qual seu nome? amanda\n",
            "Oieeeeeeeeeeeee amanda Tudo bem???????????\n"
          ]
        }
      ]
    },
    {
      "cell_type": "markdown",
      "source": [
        "Crie sua primeira calculadora de somar"
      ],
      "metadata": {
        "id": "LcVTEBFC6Euh"
      }
    },
    {
      "cell_type": "code",
      "source": [
        "n1 = float(input(\"Coloque o primeiro número: \"))\n",
        "n2 = float(input(\"Coloque o segundo número: \"))\n",
        "soma = n1 + n2\n",
        "print(soma)"
      ],
      "metadata": {
        "id": "7dZJlDFL876W",
        "colab": {
          "base_uri": "https://localhost:8080/"
        },
        "outputId": "c190d172-bbcb-4685-8192-807109a2b50f"
      },
      "execution_count": null,
      "outputs": [
        {
          "output_type": "stream",
          "name": "stdout",
          "text": [
            "Coloque o primeiro número: 1000\n",
            "Coloque o segundo número: 1000\n",
            "2000.0\n"
          ]
        }
      ]
    },
    {
      "cell_type": "markdown",
      "source": [
        "Crie sua primeira calculadora de multiplicação"
      ],
      "metadata": {
        "id": "_QWmWx0n9X6X"
      }
    },
    {
      "cell_type": "code",
      "source": [
        "n1 = float(input(\"Primero número: \"))\n",
        "n2 = float(input(\"Segundo número: \"))\n",
        "\n",
        "mult = n1 * n2\n",
        "\n",
        "print(mult)"
      ],
      "metadata": {
        "id": "NjeGA-4LlXy1",
        "colab": {
          "base_uri": "https://localhost:8080/"
        },
        "outputId": "9a5d76c1-e6fd-4e48-df37-6527c0180269"
      },
      "execution_count": null,
      "outputs": [
        {
          "output_type": "stream",
          "name": "stdout",
          "text": [
            "Primero número: 7\n",
            "Segundo número: 7\n",
            "49.0\n"
          ]
        }
      ]
    },
    {
      "cell_type": "markdown",
      "source": [
        "Crie uma calculadora que pede um número e imprime seu dobro"
      ],
      "metadata": {
        "id": "QOF3q6MU4SWr"
      }
    },
    {
      "cell_type": "code",
      "source": [
        "n1 = float(input(\"Digite um número: \"))\n",
        "\n",
        "dobro = n1 * 2\n",
        "\n",
        "print(dobro)"
      ],
      "metadata": {
        "id": "aIeyLs7M4X8T",
        "colab": {
          "base_uri": "https://localhost:8080/"
        },
        "outputId": "2b1013c2-6fbd-413c-8c1d-ac337f7b88f9"
      },
      "execution_count": null,
      "outputs": [
        {
          "output_type": "stream",
          "name": "stdout",
          "text": [
            "Digite um número: 7\n",
            "14.0\n"
          ]
        }
      ]
    },
    {
      "cell_type": "markdown",
      "source": [
        "---------------------"
      ],
      "metadata": {
        "id": "EZv0cTJC5QXE"
      }
    },
    {
      "cell_type": "markdown",
      "source": [
        "Crie um programa que faça a média de duas notas e de o resultado final"
      ],
      "metadata": {
        "id": "nGKm6Yepqsj_"
      }
    },
    {
      "cell_type": "code",
      "source": [
        "n1 = float(input(\"Primeira nota: \")\n",
        "n2 = float(input(\"Segunda nota: \")\n",
        "\n",
        "soma = (n1+n2)/2\n",
        "\n",
        "print(soma)"
      ],
      "metadata": {
        "id": "dGt6YJwMqwJx",
        "colab": {
          "base_uri": "https://localhost:8080/",
          "height": 131
        },
        "outputId": "e2cd416a-0a7d-4b51-dfa1-13fbaf909477"
      },
      "execution_count": null,
      "outputs": [
        {
          "output_type": "error",
          "ename": "SyntaxError",
          "evalue": "ignored",
          "traceback": [
            "\u001b[0;36m  File \u001b[0;32m\"<ipython-input-4-0485ce28b388>\"\u001b[0;36m, line \u001b[0;32m1\u001b[0m\n\u001b[0;31m    n1 = float(input(\"Primeira nota: \")\u001b[0m\n\u001b[0m               ^\u001b[0m\n\u001b[0;31mSyntaxError\u001b[0m\u001b[0;31m:\u001b[0m invalid syntax. Perhaps you forgot a comma?\n"
          ]
        }
      ]
    },
    {
      "cell_type": "markdown",
      "source": [
        "Crie um programa que transforme minutos em segundos \n",
        "(Lembre que 1 minuto = 60 segundos)"
      ],
      "metadata": {
        "id": "lblmpcPH1BSQ"
      }
    },
    {
      "cell_type": "code",
      "source": [
        "minutos = float(input(\"Insira os minutos: \"))\n",
        "\n",
        "segundos = minutos * 60\n",
        "\n",
        "print(segundos)"
      ],
      "metadata": {
        "id": "WH-dSrte1IK2",
        "colab": {
          "base_uri": "https://localhost:8080/"
        },
        "outputId": "b2e5f370-efd3-4909-a645-5ea675caabad"
      },
      "execution_count": null,
      "outputs": [
        {
          "output_type": "stream",
          "name": "stdout",
          "text": [
            "Insira os minutos: 30\n",
            "1800.0\n"
          ]
        }
      ]
    },
    {
      "cell_type": "markdown",
      "source": [
        "Faça um programa que converta metros para centímetros.\n",
        "\n"
      ],
      "metadata": {
        "id": "qlPdikMI1TSV"
      }
    },
    {
      "cell_type": "code",
      "source": [
        "metro = float(input(\"Digite a quantidade de metros: \"))\n",
        "\n",
        "centimetros = metro*100\n",
        "\n",
        "print(centimetros)"
      ],
      "metadata": {
        "id": "ESEmbc751Uss",
        "colab": {
          "base_uri": "https://localhost:8080/"
        },
        "outputId": "a233abc0-b1aa-4c21-fcd4-5f6ef70fa392"
      },
      "execution_count": null,
      "outputs": [
        {
          "output_type": "stream",
          "name": "stdout",
          "text": [
            "Digite a quantidade de metros: 20\n",
            "2000.0\n"
          ]
        }
      ]
    },
    {
      "cell_type": "markdown",
      "source": [
        "Faça um programa que pergunte quanto você ganha por hora e o número de horas trabalhadas no mês. Calcule e mostre o total do seu salário no referido mês."
      ],
      "metadata": {
        "id": "pTUsmQL91Wr9"
      }
    },
    {
      "cell_type": "code",
      "source": [
        "hora = float(input(\"Quanto você ganha por hora? \"))\n",
        "total = float(input(\"Quantas horas você trabalhou nesse mes? \"))\n",
        "\n",
        "salario = hora * total\n",
        "\n",
        "print(salario)"
      ],
      "metadata": {
        "colab": {
          "base_uri": "https://localhost:8080/"
        },
        "id": "wu5HykaO6YBO",
        "outputId": "c29374c4-8368-4b72-bf83-0d02164efc03"
      },
      "execution_count": null,
      "outputs": [
        {
          "output_type": "stream",
          "name": "stdout",
          "text": [
            "Quanto você ganha por hora? 12\n",
            "Quantas horas você trabalhou nesse mes? 120\n",
            "1440.0\n"
          ]
        }
      ]
    },
    {
      "cell_type": "markdown",
      "source": [
        "Faça um Programa que calcule a área de um quadrado, em seguida mostre o dobro desta área para o usuário.\n",
        "\n"
      ],
      "metadata": {
        "id": "HDcAmQoO6W_X"
      }
    },
    {
      "cell_type": "code",
      "source": [
        "area = float(input(\"Digite a área do quadrado: \"))\n",
        "\n",
        "dobro = area * 2\n",
        "\n",
        "print(dobro)"
      ],
      "metadata": {
        "colab": {
          "base_uri": "https://localhost:8080/"
        },
        "id": "6_Gr6Z5K6YUX",
        "outputId": "3487b917-6346-4562-a2d0-df320e744fea"
      },
      "execution_count": null,
      "outputs": [
        {
          "output_type": "stream",
          "name": "stdout",
          "text": [
            "Digite a área do quadrado: 16\n",
            "32.0\n"
          ]
        }
      ]
    },
    {
      "cell_type": "markdown",
      "source": [
        "Faça um Programa que peça a temperatura em graus Farenheit, transforme e mostre a temperatura em graus Celsius. C = (5 * (F-32) / 9)."
      ],
      "metadata": {
        "id": "bhy-X2zx6XoY"
      }
    },
    {
      "cell_type": "code",
      "source": [
        "fahrenheit = float(input(\"Digite a temperatura em Fº: \"))\n",
        "\n",
        "c = (5*(fahrenheit - 32)/9)\n",
        "\n",
        "print(\"A temperatura em Celsius é \", c)"
      ],
      "metadata": {
        "colab": {
          "base_uri": "https://localhost:8080/"
        },
        "id": "EKJOwpnk6cKC",
        "outputId": "60417e29-6e3e-4887-eb48-6b575484efb3"
      },
      "execution_count": null,
      "outputs": [
        {
          "output_type": "stream",
          "name": "stdout",
          "text": [
            "Digite a temperatura em Fº: 1286\n",
            "A temperatura em Celsius é  696.6666666666666\n"
          ]
        }
      ]
    },
    {
      "cell_type": "markdown",
      "source": [
        "-------------------------------------------------------------------------------------------------------------------------"
      ],
      "metadata": {
        "id": "EVqYGtiXMCVj"
      }
    },
    {
      "cell_type": "markdown",
      "source": [
        "Verifique se um número é positivo ou negativo"
      ],
      "metadata": {
        "id": "XH97xtuWMP70"
      }
    },
    {
      "cell_type": "code",
      "source": [
        "numero = float(input(\"Digite um número: \"))\n",
        "\n",
        "if numero < 0:\n",
        "  print(\"Negativo.\")\n",
        "if numero > 0:\n",
        "  print(\"Positivo.\")"
      ],
      "metadata": {
        "colab": {
          "base_uri": "https://localhost:8080/"
        },
        "id": "OACo-TLgMXyT",
        "outputId": "111bf678-956c-4bd8-d220-bb37affcf579"
      },
      "execution_count": null,
      "outputs": [
        {
          "output_type": "stream",
          "name": "stdout",
          "text": [
            "Digite um número: 48\n",
            "Positivo.\n"
          ]
        }
      ]
    },
    {
      "cell_type": "markdown",
      "source": [
        "Verifique se uma pessoa pode ter CNH ou não"
      ],
      "metadata": {
        "id": "mNJiE0G-MepM"
      }
    },
    {
      "cell_type": "code",
      "source": [
        "idade = float(input(\"Digite sua idade: \"))\n",
        "\n",
        "if idade > 18:\n",
        "  print(\"VOcÊ pode uhuuuu vrum vrum\")\n",
        "if idade < 18:\n",
        "  print(\"nao pode vc eh bb\")"
      ],
      "metadata": {
        "colab": {
          "base_uri": "https://localhost:8080/"
        },
        "id": "QYOogYefMixa",
        "outputId": "aa2e8bcd-2b12-45db-b3e7-7374f9e567be"
      },
      "execution_count": null,
      "outputs": [
        {
          "output_type": "stream",
          "name": "stdout",
          "text": [
            "Digite sua idade: 16\n",
            "nao pode vc eh bb\n"
          ]
        }
      ]
    },
    {
      "cell_type": "markdown",
      "source": [
        "Verifique se um aluno foi aprovado ou reprovado com base em sua nota"
      ],
      "metadata": {
        "id": "2Gl6I0AxMkGy"
      }
    },
    {
      "cell_type": "code",
      "source": [
        "media = float(input(\"Qual foi a sua média? \"))\n",
        "\n",
        "if media < 7:\n",
        "  print(\"Recuperação\")\n",
        "if media > 7.1:\n",
        "  print(\"Legal\")\n",
        "if media > 9:\n",
        "  print(\"Perfeito.\")"
      ],
      "metadata": {
        "colab": {
          "base_uri": "https://localhost:8080/"
        },
        "id": "gzl0FL94MmXS",
        "outputId": "84e85615-3a7c-49df-b35e-ad7aa667cf3c"
      },
      "execution_count": null,
      "outputs": [
        {
          "output_type": "stream",
          "name": "stdout",
          "text": [
            "Qual foi a sua média? 9.2\n",
            "Legal\n",
            "Perfeito.\n"
          ]
        }
      ]
    },
    {
      "cell_type": "markdown",
      "source": [
        "Crie um programa que decida se uma letra é vogal ou consoante"
      ],
      "metadata": {
        "id": "rz6LzLb_Wogw"
      }
    },
    {
      "cell_type": "code",
      "source": [
        "letra = str(input(\"Digite uma letra: \"))\n",
        "\n",
        "if letra == 'a':\n",
        "  print(\"Vogal\")\n",
        "if letra == 'e':\n",
        "  print(\"Vogal\")\n",
        "if letra == 'i':\n",
        "  print(\"Vogal\")\n",
        "if letra == 'o':\n",
        "  print(\"Vogal\")\n",
        "if letra == 'u':\n",
        "  print(\"Vogal\")"
      ],
      "metadata": {
        "colab": {
          "base_uri": "https://localhost:8080/"
        },
        "id": "ANzwXZNyWwtg",
        "outputId": "6b5c67ac-7e69-4698-9207-574e98ad21e0"
      },
      "execution_count": null,
      "outputs": [
        {
          "output_type": "stream",
          "name": "stdout",
          "text": [
            "Digite uma letra: a\n",
            "Vogal\n"
          ]
        }
      ]
    },
    {
      "cell_type": "markdown",
      "source": [
        "Verifique se um número é par ou ímpar"
      ],
      "metadata": {
        "id": "C_D3-UeYMoOR"
      }
    },
    {
      "cell_type": "code",
      "source": [],
      "metadata": {
        "id": "l6zyzru5Mou5"
      },
      "execution_count": null,
      "outputs": []
    }
  ]
}